71 path=scripts/.ipynb_checkpoints/癌症数据测试-checkpoint.ipynb
27 mtime=1625378496.343774
27 atime=1625378496.647773
