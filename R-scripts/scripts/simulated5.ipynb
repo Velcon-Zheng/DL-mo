{
 "cells": [
  {
   "cell_type": "code",
   "execution_count": 1,
   "metadata": {},
   "outputs": [
    {
     "name": "stdout",
     "output_type": "stream",
     "text": [
      "equal\n",
      "5\n",
      "VAE_FCTAE_EM:\t4.504463e-05\tAE_FAETC_EM:\t0.004184216\tAE_FCTAE_EM:\t0.0330987\tDAE_FAETC_EM:\t0.004441494\tDAE_FCTAE_EM:\t0.008154504\tSVAE_FCTAE_EM:\t0.4655581\tMMDVAE_EM:\t0.1458717\t\n",
      "10\n",
      "VAE_FCTAE_EM:\t0.003635386\tAE_FAETC_EM:\t0.0035659\tAE_FCTAE_EM:\t0.02842663\tDAE_FAETC_EM:\t0.001843445\tDAE_FCTAE_EM:\t0.01148442\tSVAE_FCTAE_EM:\t0.4121765\tMMDVAE_EM:\t0.04435753\t\n",
      "15\n",
      "VAE_FCTAE_EM:\t0.005551698\tAE_FAETC_EM:\t9.907964e-05\tAE_FCTAE_EM:\t0.01859775\tDAE_FAETC_EM:\t0.0001225418\tDAE_FCTAE_EM:\t0.001406802\tSVAE_FCTAE_EM:\t0.4401409\tMMDVAE_EM:\t0.07165692\t\n",
      "heterogeneous\n",
      "5\n",
      "VAE_FCTAE_EM:\t0\tAE_FAETC_EM:\t0.00621834\tAE_FCTAE_EM:\t0.03868079\tDAE_FAETC_EM:\t0.01481579\tDAE_FCTAE_EM:\t0.02040643\tSVAE_FCTAE_EM:\t0.4843045\tMMDVAE_EM:\t0.09805638\t\n",
      "10\n",
      "VAE_FCTAE_EM:\t0\tAE_FAETC_EM:\t0.0006882486\tAE_FCTAE_EM:\t0.01375251\tDAE_FAETC_EM:\t0.0004930458\tDAE_FCTAE_EM:\t0.00214164\tSVAE_FCTAE_EM:\t0.4399823\tMMDVAE_EM:\t0.05074539\t\n",
      "15\n",
      "VAE_FCTAE_EM:\t0.00030879\tAE_FAETC_EM:\t0.000543203\tAE_FCTAE_EM:\t0.01428489\tDAE_FAETC_EM:\t0.0005494145\tDAE_FCTAE_EM:\t0.00473824\tSVAE_FCTAE_EM:\t0.4465131\tMMDVAE_EM:\t0.01300037\t\n"
     ]
    }
   ],
   "source": [
    "library(\"clusterCrit\")\n",
    "datatypes<-c(\"equal\",\"heterogeneous\")\n",
    "typenums<-c(5,10,15)\n",
    "data_names<-c('VAE_FCTAE_EM','AE_FAETC_EM', 'AE_FCTAE_EM', 'DAE_FAETC_EM', 'DAE_FCTAE_EM','SVAE_FCTAE_EM','MMDVAE_EM')\n",
    "\n",
    "for(datatype in datatypes){\n",
    "    cat(datatype)\n",
    "    cat('\\n')\n",
    "    for(typenum in typenums){\n",
    "        cat(typenum)\n",
    "        cat('\\n')\n",
    "        for(data_name in data_names){\n",
    "            cat(data_name)\n",
    "            cat(':\\t')\n",
    "            datapath=paste(\"../data/simulations/\",datatype,'/',typenum,'/',data_name,'_',typenum,'.txt',sep='')\n",
    "            factorization=read.table(datapath, sep=\" \", header=FALSE)\n",
    "            factors=factorization\n",
    "            labelpath=paste(\"../data/simulations/\",datatype,'/',typenum,'/','c.txt',sep='')\n",
    "            ann=read.table(labelpath, sep=\"\", header=FALSE)\n",
    "            c_index <- numeric(0)\n",
    "            c_index <- c(c_index, intCriteria(as.matrix(factors),as.integer(ann[,1]), crit=c(\"C_index\"))$c_index)\n",
    "            \n",
    "            cat(c_index)\n",
    "            cat('\\t')\n",
    "        }\n",
    "        cat('\\n')\n",
    "    }\n",
    "}"
   ]
  },
  {
   "cell_type": "code",
   "execution_count": 2,
   "metadata": {},
   "outputs": [
    {
     "name": "stdout",
     "output_type": "stream",
     "text": [
      "equal\n",
      "5\n",
      "VAE_FCTAE_EM:\t0.07196285\tAE_FAETC_EM:\t0.03253196\tAE_FCTAE_EM:\t0.05833536\tDAE_FAETC_EM:\t0.06760756\tDAE_FCTAE_EM:\t0.06496341\tSVAE_FCTAE_EM:\t0.215584\tMMDVAE_EM:\t0.1300416\t\n",
      "10\n",
      "VAE_FCTAE_EM:\t0.04221704\tAE_FAETC_EM:\t0.07221034\tAE_FCTAE_EM:\t0.05796118\tDAE_FAETC_EM:\t0.06124846\tDAE_FCTAE_EM:\t0.0615256\tSVAE_FCTAE_EM:\t0.1431318\tMMDVAE_EM:\t0.05502581\t\n",
      "15\n",
      "VAE_FCTAE_EM:\t0.04028657\tAE_FAETC_EM:\t0.05521886\tAE_FCTAE_EM:\t0.05326361\tDAE_FAETC_EM:\t0.07254423\tDAE_FCTAE_EM:\t0.05745828\tSVAE_FCTAE_EM:\t0.1663533\tMMDVAE_EM:\t0.06437726\t\n",
      "heterogeneous\n",
      "5\n",
      "VAE_FCTAE_EM:\t0.07371404\tAE_FAETC_EM:\t0.04313065\tAE_FCTAE_EM:\t0.04314421\tDAE_FAETC_EM:\t0.04965634\tDAE_FCTAE_EM:\t0.06570477\tSVAE_FCTAE_EM:\t0.1935325\tMMDVAE_EM:\t0.09544523\t\n",
      "10\n",
      "VAE_FCTAE_EM:\t0.08391559\tAE_FAETC_EM:\t0.05758501\tAE_FCTAE_EM:\t0.06201935\tDAE_FAETC_EM:\t0.06793216\tDAE_FCTAE_EM:\t0.0698894\tSVAE_FCTAE_EM:\t0.1602736\tMMDVAE_EM:\t0.05446637\t\n",
      "15\n",
      "VAE_FCTAE_EM:\t0.07263284\tAE_FAETC_EM:\t0.07681679\tAE_FCTAE_EM:\t0.05853938\tDAE_FAETC_EM:\t0.09271893\tDAE_FCTAE_EM:\t0.07437702\tSVAE_FCTAE_EM:\t0.1530822\tMMDVAE_EM:\t0.05110374\t\n"
     ]
    }
   ],
   "source": [
    "library(\"clusterCrit\")\n",
    "datatypes<-c(\"equal\",\"heterogeneous\")\n",
    "typenums<-c(5,10,15)\n",
    "#typenums<-c(5)\n",
    "data_names<-c('VAE_FCTAE_EM','AE_FAETC_EM', 'AE_FCTAE_EM', 'DAE_FAETC_EM', 'DAE_FCTAE_EM','SVAE_FCTAE_EM','MMDVAE_EM')\n",
    "#data_names<-c('VAE_FCTAE_EM')\n",
    "for(datatype in datatypes){\n",
    "    cat(datatype)\n",
    "    cat('\\n')\n",
    "    for(typenum in typenums){\n",
    "        cat(typenum)\n",
    "        cat('\\n')\n",
    "        for(data_name in data_names){\n",
    "            cat(data_name)\n",
    "            cat(':\\t')\n",
    "            \n",
    "            datapath=paste(\"../data/simulations/\",datatype,'/',typenum,'/',data_name,'_',typenum,'.txt',sep='')\n",
    "            factorization=read.table(datapath, sep=\" \", header=FALSE)\n",
    "            factors=factorization\n",
    "            all_c_index <- numeric(0)\n",
    "            for (run in 1:100) {\n",
    "                \n",
    "                kmeans.out <- kmeans(factors, centers=typenum) \n",
    "                clust_iCluster <- kmeans.out$cluster\n",
    "                c_index <- numeric(0)\n",
    "                c_index <- c(c_index, intCriteria(as.matrix(factors),clust_iCluster, crit=c(\"C_index\"))$c_index)\n",
    "                all_c_index<-rbind(all_c_index,c_index)\n",
    "                }\n",
    "            #print(all_c_index)\n",
    "            avg_c_index=apply(all_c_index,2,mean)\n",
    "            cat(avg_c_index)\n",
    "            cat('\\t')\n",
    "        }\n",
    "        cat('\\n')\n",
    "    }\n",
    "}"
   ]
  },
  {
   "cell_type": "code",
   "execution_count": null,
   "metadata": {},
   "outputs": [],
   "source": []
  }
 ],
 "metadata": {
  "kernelspec": {
   "display_name": "R",
   "language": "R",
   "name": "ir"
  },
  "language_info": {
   "codemirror_mode": "r",
   "file_extension": ".r",
   "mimetype": "text/x-r-source",
   "name": "R",
   "pygments_lexer": "r",
   "version": "3.5.1"
  }
 },
 "nbformat": 4,
 "nbformat_minor": 4
}
